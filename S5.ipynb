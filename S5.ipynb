{
  "nbformat": 4,
  "nbformat_minor": 0,
  "metadata": {
    "colab": {
      "provenance": [],
      "gpuType": "T4"
    },
    "kernelspec": {
      "name": "python3",
      "display_name": "Python 3"
    },
    "language_info": {
      "name": "python"
    },
    "accelerator": "GPU"
  },
  "cells": [
    {
      "cell_type": "markdown",
      "source": [
        "CODE BLOCK: 1"
      ],
      "metadata": {
        "id": "n09vaEgP6pLj"
      }
    },
    {
      "cell_type": "markdown",
      "source": [
        "### Import Heavenly Gods ( Import libraries )"
      ],
      "metadata": {
        "id": "C4Cg0TEo1oyH"
      }
    },
    {
      "cell_type": "code",
      "execution_count": 3,
      "metadata": {
        "id": "6PlbomWY3RSq"
      },
      "outputs": [],
      "source": [
        "import torch\n",
        "import torch.nn as nn\n",
        "import torch.nn.functional as F\n",
        "import torch.optim as optim\n",
        "from torchvision import datasets, transforms"
      ]
    },
    {
      "cell_type": "markdown",
      "source": [
        "CODE BLOCK: 2"
      ],
      "metadata": {
        "id": "VjBHHQVA6sXt"
      }
    },
    {
      "cell_type": "markdown",
      "source": [
        "### Check if cuda is available"
      ],
      "metadata": {
        "id": "Drv0Vi_l2hGW"
      }
    },
    {
      "cell_type": "code",
      "source": [
        "# CUDA?\n",
        "cuda = torch.cuda.is_available()\n",
        "print(\"CUDA Available?\", cuda)"
      ],
      "metadata": {
        "colab": {
          "base_uri": "https://localhost:8080/"
        },
        "id": "94BxVVBP3WwS",
        "outputId": "bc2f7b43-63fe-4bf9-bb60-53796da171f6"
      },
      "execution_count": 4,
      "outputs": [
        {
          "output_type": "stream",
          "name": "stdout",
          "text": [
            "CUDA Available? True\n"
          ]
        }
      ]
    },
    {
      "cell_type": "markdown",
      "source": [
        "CODE BLOCK: 3"
      ],
      "metadata": {
        "id": "3UHq59Sw6tmW"
      }
    },
    {
      "cell_type": "markdown",
      "source": [
        "### Define train and test data transformations\n",
        "*  ***transforms.Compose*** - compose list of transforms together / chain multiple transformations\n",
        "* ***transforms.RandomApply*** - randomly apply listed transformation based on probability / introduces random variation into data to make model robust and  generalize unseen data / data augmentation / increase variability ( prevent overfitting )\n",
        "* ***transforms.CenterCrop*** - extract square or crop from center of image ( size = 22 / side length)\n",
        "* ***transforms.Resize*** - resize image to specific size\n",
        "* ***transforms.RandomRotation*** - rotate image by random angle ( min = -15, max = 15, fill = 0 for area beyond the rotated image)\n",
        "* ***transforms.toTensor*** - converts PIL images/numpy arrays to tensors. Swaps the dimensions from (height, width, channels) to (channels, height, width)\n",
        "* ***transforms.Normalize*** - normalize with mean and std of complete dataset\n"
      ],
      "metadata": {
        "id": "KlPmqb4-2yh9"
      }
    },
    {
      "cell_type": "code",
      "source": [
        "# Train data transformations\n",
        "train_transforms = transforms.Compose([\n",
        "    transforms.RandomApply([transforms.CenterCrop(22), ], p=0.1),\n",
        "    transforms.Resize((28, 28)),\n",
        "    transforms.RandomRotation((-15., 15.), fill=0),\n",
        "    transforms.ToTensor(),\n",
        "    transforms.Normalize((0.1307,), (0.3081,)),\n",
        "    ])\n",
        "\n",
        "# Test data transformations\n",
        "test_transforms = transforms.Compose([\n",
        "    transforms.ToTensor(),\n",
        "    transforms.Normalize((0.1307,), (0.3081,))\n",
        "    ])"
      ],
      "metadata": {
        "id": "KpshQ2Ug38m2"
      },
      "execution_count": 5,
      "outputs": []
    },
    {
      "cell_type": "markdown",
      "source": [
        "CODE BLOCK: 4"
      ],
      "metadata": {
        "id": "zQm17pM46zHL"
      }
    },
    {
      "cell_type": "markdown",
      "source": [
        "# Download MNIST data\n",
        "\n",
        "* [**datasets.MNIST(root, train, download, transform, target_transform)**](https://pytorch.org/vision/stable/generated/torchvision.datasets.MNIST.html) - datasets.MNIST is a class that inherits torchvision.Dataset to access and load MNIST data.\n",
        "  * ***root*** - directory where data will be downloaded\n",
        "  * ***train*** - creates train data if set to True\n",
        "  * ***download*** - if set to True, downloads dataset from internet if not available in root location\n",
        "  * ***transform*** - takes PIL image as input and returns transformed version\n",
        "\n",
        "* Download MNIST training and testing data and store references in train_data and test_data\n",
        "\n"
      ],
      "metadata": {
        "id": "Z3A6NMr9-Wbq"
      }
    },
    {
      "cell_type": "code",
      "source": [
        "train_data = datasets.MNIST('../data', train=True, download=True, transform=train_transforms)\n",
        "test_data = datasets.MNIST('../data', train=False, download=True, transform=test_transforms)"
      ],
      "metadata": {
        "id": "JB79ZYW13-AO",
        "colab": {
          "base_uri": "https://localhost:8080/"
        },
        "outputId": "83a1420a-bc96-49f4-8c11-4a86f8650359"
      },
      "execution_count": 6,
      "outputs": [
        {
          "output_type": "stream",
          "name": "stdout",
          "text": [
            "Downloading http://yann.lecun.com/exdb/mnist/train-images-idx3-ubyte.gz\n",
            "Downloading http://yann.lecun.com/exdb/mnist/train-images-idx3-ubyte.gz to ../data/MNIST/raw/train-images-idx3-ubyte.gz\n"
          ]
        },
        {
          "output_type": "stream",
          "name": "stderr",
          "text": [
            "100%|██████████| 9912422/9912422 [00:00<00:00, 236536085.68it/s]"
          ]
        },
        {
          "output_type": "stream",
          "name": "stdout",
          "text": [
            "Extracting ../data/MNIST/raw/train-images-idx3-ubyte.gz to ../data/MNIST/raw\n"
          ]
        },
        {
          "output_type": "stream",
          "name": "stderr",
          "text": [
            "\n"
          ]
        },
        {
          "output_type": "stream",
          "name": "stdout",
          "text": [
            "\n",
            "Downloading http://yann.lecun.com/exdb/mnist/train-labels-idx1-ubyte.gz\n",
            "Downloading http://yann.lecun.com/exdb/mnist/train-labels-idx1-ubyte.gz to ../data/MNIST/raw/train-labels-idx1-ubyte.gz\n"
          ]
        },
        {
          "output_type": "stream",
          "name": "stderr",
          "text": [
            "100%|██████████| 28881/28881 [00:00<00:00, 34739229.66it/s]"
          ]
        },
        {
          "output_type": "stream",
          "name": "stdout",
          "text": [
            "Extracting ../data/MNIST/raw/train-labels-idx1-ubyte.gz to ../data/MNIST/raw\n",
            "\n",
            "Downloading http://yann.lecun.com/exdb/mnist/t10k-images-idx3-ubyte.gz\n"
          ]
        },
        {
          "output_type": "stream",
          "name": "stderr",
          "text": [
            "\n"
          ]
        },
        {
          "output_type": "stream",
          "name": "stdout",
          "text": [
            "Downloading http://yann.lecun.com/exdb/mnist/t10k-images-idx3-ubyte.gz to ../data/MNIST/raw/t10k-images-idx3-ubyte.gz\n"
          ]
        },
        {
          "output_type": "stream",
          "name": "stderr",
          "text": [
            "100%|██████████| 1648877/1648877 [00:00<00:00, 180835984.64it/s]\n"
          ]
        },
        {
          "output_type": "stream",
          "name": "stdout",
          "text": [
            "Extracting ../data/MNIST/raw/t10k-images-idx3-ubyte.gz to ../data/MNIST/raw\n",
            "\n",
            "Downloading http://yann.lecun.com/exdb/mnist/t10k-labels-idx1-ubyte.gz\n",
            "Downloading http://yann.lecun.com/exdb/mnist/t10k-labels-idx1-ubyte.gz to ../data/MNIST/raw/t10k-labels-idx1-ubyte.gz\n"
          ]
        },
        {
          "output_type": "stream",
          "name": "stderr",
          "text": [
            "100%|██████████| 4542/4542 [00:00<00:00, 17854291.25it/s]"
          ]
        },
        {
          "output_type": "stream",
          "name": "stdout",
          "text": [
            "Extracting ../data/MNIST/raw/t10k-labels-idx1-ubyte.gz to ../data/MNIST/raw\n",
            "\n"
          ]
        },
        {
          "output_type": "stream",
          "name": "stderr",
          "text": [
            "\n"
          ]
        }
      ]
    },
    {
      "cell_type": "markdown",
      "source": [
        "CODE BLOCK: 5"
      ],
      "metadata": {
        "id": "_PKSHxto6116"
      }
    },
    {
      "cell_type": "markdown",
      "source": [
        "###Prepare Data to be trained and tested\n",
        "\n",
        "* [Dataloader](https://pytorch.org/tutorials/beginner/basics/data_tutorial.html#preparing-your-data-for-training-with-dataloaders) allows iterating and managing dataset during training and evaluation. It provides features like preparing batch of data, shuffling data, processing data in parallel.\n",
        "\n",
        "* [**torch.utils.data.DataLoader(dataset, **kwargs)**](https://pytorch.org/docs/stable/data.html#torch.utils.data.DataLoader)\n",
        "   * ***dataset*** - dataset to load\n",
        "   * ***batch_size*** - how many samples per batch to load ( default = 1)\n",
        "   * ***shuffle*** - if set to True, reshuffle for every epoch\n",
        "   * ***num_workers*** - no of subprocesses for data load ( in parallel )\n",
        "   * ***pin_memory*** - if set to True, put fetched tensor to pin memory ( page locking ) to enable fast data transfers to CUDA enabled GPU's\n",
        "\n",
        "* Here we prepare train and test data with batch size as 512 ( we get 512 records for every iteration), 2 sub processes to load data in parallel with having it pinned boosts performance."
      ],
      "metadata": {
        "id": "lb_jSFxpA2dY"
      }
    },
    {
      "cell_type": "code",
      "source": [
        "batch_size = 512\n",
        "\n",
        "kwargs = {'batch_size': batch_size, 'shuffle': False, 'num_workers': 2, 'pin_memory': True}\n",
        "\n",
        "test_loader = torch.utils.data.DataLoader(test_data, **kwargs)\n",
        "train_loader = torch.utils.data.DataLoader(train_data, **kwargs)"
      ],
      "metadata": {
        "id": "avCKK1uL4A68"
      },
      "execution_count": 7,
      "outputs": []
    },
    {
      "cell_type": "markdown",
      "source": [
        "CODE BLOCK: 6"
      ],
      "metadata": {
        "id": "Hi_0rfq56-29"
      }
    },
    {
      "cell_type": "markdown",
      "source": [
        "### Visualize the sample data\n",
        " * Here we are getting a batch of 512 records in training data and visualizing 12 records using matplotlib."
      ],
      "metadata": {
        "id": "Kv2PLNCJKEHl"
      }
    },
    {
      "cell_type": "code",
      "source": [
        "import matplotlib.pyplot as plt\n",
        "\n",
        "batch_data, batch_label = next(iter(train_loader))\n",
        "\n",
        "fig = plt.figure()\n",
        "\n",
        "for i in range(12):\n",
        "  plt.subplot(3,4,i+1)\n",
        "  plt.tight_layout()\n",
        "  plt.imshow(batch_data[i].squeeze(0), cmap='gray')\n",
        "  plt.title(batch_label[i].item())\n",
        "  plt.xticks([])\n",
        "  plt.yticks([])"
      ],
      "metadata": {
        "colab": {
          "base_uri": "https://localhost:8080/",
          "height": 463
        },
        "id": "Hx7QkLcw4Epc",
        "outputId": "69842ca7-0fad-4b83-b048-4491a5291d05"
      },
      "execution_count": 8,
      "outputs": [
        {
          "output_type": "display_data",
          "data": {
            "text/plain": [
              "<Figure size 640x480 with 12 Axes>"
            ],
            "image/png": "[encoded data removed]"
          },
          "metadata": {}
        }
      ]
    },
    {
      "cell_type": "markdown",
      "source": [
        "CODE BLOCK: 7"
      ],
      "metadata": {
        "id": "y3XbVJSb7Aee"
      }
    },
    {
      "cell_type": "markdown",
      "source": [
        "### Convolutional Neural Network ( ***models.py*** )\n",
        "\n",
        "* Convolutional Neural Network is defined in *models.py* file\n",
        "\n",
        "* We have designed a Convolution Neural Network which consists of 4 2d Convolutional Layers with each having kernel of size 3 with growing channels (i.e 1 -> 32 -> 64 -> 128 -> 256 ) and 2 Fully Connected Layers.\n",
        "\n",
        "* We have defined 2 max pooling layers which will help reduce size of image.\n",
        "\n",
        "* We are using activation functioon as relu for all convolutions and softmax function for the final layer to predict probability of presence of each class in the given image to identify the class with max probability that determines the input image.\n",
        "\n",
        "* Architecture looks like below.\n",
        "  * Conv2D(32) -> relu -> Conv2D(64) -> MaxPool2D -> relu -> Conv2D(128)  -> relu -> Conv2D(256) -> MaxPool2D -> relu -> squeeze -> FC(50) -> relu -> FC(10) -> softmax\n",
        "  * Below architecture is designed to work for input images of size 28 * 28.\n"
      ],
      "metadata": {
        "id": "1p7M3_GrFDcg"
      }
    },
    {
      "cell_type": "markdown",
      "source": [
        "* set device to cuda if available and load neural network to device\n",
        "* print model summary for the model"
      ],
      "metadata": {
        "id": "VMrl8s31cZ-Z"
      }
    },
    {
      "cell_type": "code",
      "source": [
        "from model import Net\n",
        "!pip install torchsummary\n",
        "from torchsummary import summary\n",
        "use_cuda = torch.cuda.is_available()\n",
        "device = torch.device(\"cuda\" if use_cuda else \"cpu\")\n",
        "nn_model = Net().to(device)\n",
        "summary(nn_model, input_size=(1, 28, 28))"
      ],
      "metadata": {
        "colab": {
          "base_uri": "https://localhost:8080/"
        },
        "id": "264WXxt0J6Ov",
        "outputId": "b6e365a5-d353-4c72-d760-32236af32f81"
      },
      "execution_count": 9,
      "outputs": [
        {
          "output_type": "stream",
          "name": "stdout",
          "text": [
            "Requirement already satisfied: torchsummary in /usr/local/lib/python3.10/dist-packages (1.5.1)\n",
            "----------------------------------------------------------------\n",
            "        Layer (type)               Output Shape         Param #\n",
            "================================================================\n",
            "            Conv2d-1           [-1, 32, 26, 26]             320\n",
            "            Conv2d-2           [-1, 64, 24, 24]          18,496\n",
            "            Conv2d-3          [-1, 128, 10, 10]          73,856\n",
            "            Conv2d-4            [-1, 256, 8, 8]         295,168\n",
            "            Linear-5                   [-1, 50]         204,850\n",
            "            Linear-6                   [-1, 10]             510\n",
            "================================================================\n",
            "Total params: 593,200\n",
            "Trainable params: 593,200\n",
            "Non-trainable params: 0\n",
            "----------------------------------------------------------------\n",
            "Input size (MB): 0.00\n",
            "Forward/backward pass size (MB): 0.67\n",
            "Params size (MB): 2.26\n",
            "Estimated Total Size (MB): 2.94\n",
            "----------------------------------------------------------------\n"
          ]
        }
      ]
    },
    {
      "cell_type": "markdown",
      "source": [
        "CODE BLOCK: 8"
      ],
      "metadata": {
        "id": "89gd4_s7AO2y"
      }
    },
    {
      "cell_type": "markdown",
      "source": [
        "### Initialize train, test losses , train, test accuracies and incorrect predictions with default values"
      ],
      "metadata": {
        "id": "rq40zc9EKjUf"
      }
    },
    {
      "cell_type": "code",
      "source": [
        "# Data to plot accuracy and loss graphs\n",
        "train_losses = []\n",
        "test_losses = []\n",
        "train_acc = []\n",
        "test_acc = []\n",
        "\n",
        "test_incorrect_pred = {'images': [], 'ground_truths': [], 'predicted_vals': []}"
      ],
      "metadata": {
        "id": "7du4zM474LvT"
      },
      "execution_count": 10,
      "outputs": []
    },
    {
      "cell_type": "markdown",
      "source": [
        "CODE BLOCK: 9"
      ],
      "metadata": {
        "id": "kCwIPHqwAQgB"
      }
    },
    {
      "cell_type": "markdown",
      "source": [
        "### Define Functions to train and test the model with MNIST data ( ***utils.py*** )\n",
        "\n",
        "* functions for train, test and plotting graphs to see train, test accuracy and losses of the model are provided in utils.py file.\n",
        "\n",
        "* Steps followed as part of training model:\n",
        "  * model.train() - trains model ( sets to training mode )\n",
        "  * For every batch,\n",
        "    * load the data and target to device ( cuda)\n",
        "    * set gradients to zero ([optimizer.zero_grad()](https://stackoverflow.com/questions/48001598/why-do-we-need-to-call-zero-grad-in-pytorch)) - for every mini batch we set grad to zero before we do back propagation as pytorch accumulates gradients on subsequent backward passes. if not done, then gradients from multiple passes will be accumulated resulting in deviated output.\n",
        "    * predict output for the batch of data\n",
        "    * calculate cross entropy loss and sum up training loss\n",
        "    * do back propagation ( accumulate gradients for each parameters which have *requires_grad* set to true)\n",
        "    * update weights([for each parameter](https://discuss.pytorch.org/t/what-does-the-backward-function-do/9944))\n",
        "    * calculate the correct predicted count\n",
        "    * print the accuracy and train loss for each batch\n",
        "\n",
        "* Steps followed as part of testing model:\n",
        "  * model.eval() - set training mode to false, evaluating the model ( i.e model.train(False))\n",
        "  * torch.no_grad() - disable calculation of gradients for every tensor within the block\n",
        "  * for every batch,\n",
        "    * load test data and target to device\n",
        "    * predict output for the batch of data\n",
        "    * calculate cross entropy loss and sum up the test loss\n",
        "    * get the correct outputs for each batch\n",
        "  * print avg test loss  and accuracy for the test dataset\n",
        "\n",
        "\n"
      ],
      "metadata": {
        "id": "lC4yMQKoH0e3"
      }
    },
    {
      "cell_type": "markdown",
      "source": [
        "CODE BLOCK: 10"
      ],
      "metadata": {
        "id": "09GYKBGRAT5M"
      }
    },
    {
      "cell_type": "markdown",
      "source": [
        "### Train and test the model for MNIST data\n",
        "\n",
        "* Define model and utility instances\n",
        "* load model to device\n",
        "* define [SGD optimizer](https://pytorch.org/docs/stable/generated/torch.optim.SGD.html#sgd) with model parameters, learning rate as 0.01 and momentum as 0.9\n",
        "  * SGD: random training example (or a small batch) is selected to calculate the gradient and update the model parameters. This random selection introduces randomness into the optimization process, hence the term “*stochastic*” in stochastic Gradient Descent. This method is computationally less expensive.\n",
        "\n",
        "\n",
        "* define StepLR scheduler with step size as 15 and gamma as 0.1\n",
        "  * Scheduler is defined to have adaptive learning rate as per gradient descent procedure.\n",
        "  * usually suggested to have high learning rate at the beginning so model can explore different dimensions of predictions and then gradually decrease by the time we reach the end.\n",
        "  * StepLR scheduler is used for gradual learning rate reduction.\n",
        "* define cross entropy loss function\n",
        "* for every epoch,\n",
        "  * train the model and print the train loss and accuracy\n",
        "  * evaluate model and print the test loss and accuracy\n",
        "  * use scheduler to decay learning rate by gamma ( which will apply for 15 steps [lr = lr * gamma] )\n"
      ],
      "metadata": {
        "id": "3fC2pInjE35O"
      }
    },
    {
      "cell_type": "code",
      "source": [
        "from model import Net\n",
        "from utils import Utils\n",
        "nn_model = Net()\n",
        "utils = Utils()\n",
        "torch._nested_tensor_from_mask_left_alignedmodel = nn_model.to(device)\n",
        "optimizer = optim.SGD(nn_model.parameters(), lr=0.01, momentum=0.9)\n",
        "scheduler = optim.lr_scheduler.StepLR(optimizer, step_size=15, gamma=0.1, verbose=True)\n",
        "# New Line\n",
        "criterion = F.cross_entropy\n",
        "num_epochs = 20\n",
        "\n",
        "for epoch in range(1, num_epochs+1):\n",
        "  print(f'Epoch {epoch}')\n",
        "  utils.train(nn_model, device, train_loader, optimizer, criterion, train_losses, train_acc)\n",
        "  utils.test(nn_model, device, test_loader, criterion, test_losses, test_acc)\n",
        "  scheduler.step()"
      ],
      "metadata": {
        "colab": {
          "base_uri": "https://localhost:8080/"
        },
        "id": "Owqiet9M4TV7",
        "outputId": "3d0ba27f-e3a5-45dd-8ecd-a6963d955189"
      },
      "execution_count": 11,
      "outputs": [
        {
          "output_type": "stream",
          "name": "stdout",
          "text": [
            "Adjusting learning rate of group 0 to 1.0000e-02.\n",
            "Epoch 1\n"
          ]
        },
        {
          "output_type": "stream",
          "name": "stderr",
          "text": [
            "Train: Loss=0.3949 Batch_id=117 Accuracy=56.28: 100%|██████████| 118/118 [00:30<00:00,  3.88it/s]\n"
          ]
        },
        {
          "output_type": "stream",
          "name": "stdout",
          "text": [
            "Test set: Average loss: 0.1917, Accuracy: 9397/10000 (93.97%)\n",
            "\n",
            "Adjusting learning rate of group 0 to 1.0000e-02.\n",
            "Epoch 2\n"
          ]
        },
        {
          "output_type": "stream",
          "name": "stderr",
          "text": [
            "Train: Loss=0.2935 Batch_id=117 Accuracy=94.23: 100%|██████████| 118/118 [00:21<00:00,  5.45it/s]\n"
          ]
        },
        {
          "output_type": "stream",
          "name": "stdout",
          "text": [
            "Test set: Average loss: 0.0887, Accuracy: 9724/10000 (97.24%)\n",
            "\n",
            "Adjusting learning rate of group 0 to 1.0000e-02.\n",
            "Epoch 3\n"
          ]
        },
        {
          "output_type": "stream",
          "name": "stderr",
          "text": [
            "Train: Loss=0.2580 Batch_id=117 Accuracy=96.21: 100%|██████████| 118/118 [00:22<00:00,  5.35it/s]\n"
          ]
        },
        {
          "output_type": "stream",
          "name": "stdout",
          "text": [
            "Test set: Average loss: 0.0654, Accuracy: 9788/10000 (97.88%)\n",
            "\n",
            "Adjusting learning rate of group 0 to 1.0000e-02.\n",
            "Epoch 4\n"
          ]
        },
        {
          "output_type": "stream",
          "name": "stderr",
          "text": [
            "Train: Loss=0.2120 Batch_id=117 Accuracy=97.05: 100%|██████████| 118/118 [00:20<00:00,  5.71it/s]\n"
          ]
        },
        {
          "output_type": "stream",
          "name": "stdout",
          "text": [
            "Test set: Average loss: 0.0564, Accuracy: 9809/10000 (98.09%)\n",
            "\n",
            "Adjusting learning rate of group 0 to 1.0000e-02.\n",
            "Epoch 5\n"
          ]
        },
        {
          "output_type": "stream",
          "name": "stderr",
          "text": [
            "Train: Loss=0.1934 Batch_id=117 Accuracy=97.43: 100%|██████████| 118/118 [00:22<00:00,  5.34it/s]\n"
          ]
        },
        {
          "output_type": "stream",
          "name": "stdout",
          "text": [
            "Test set: Average loss: 0.0516, Accuracy: 9831/10000 (98.31%)\n",
            "\n",
            "Adjusting learning rate of group 0 to 1.0000e-02.\n",
            "Epoch 6\n"
          ]
        },
        {
          "output_type": "stream",
          "name": "stderr",
          "text": [
            "Train: Loss=0.2050 Batch_id=117 Accuracy=97.70: 100%|██████████| 118/118 [00:21<00:00,  5.58it/s]\n"
          ]
        },
        {
          "output_type": "stream",
          "name": "stdout",
          "text": [
            "Test set: Average loss: 0.0459, Accuracy: 9853/10000 (98.53%)\n",
            "\n",
            "Adjusting learning rate of group 0 to 1.0000e-02.\n",
            "Epoch 7\n"
          ]
        },
        {
          "output_type": "stream",
          "name": "stderr",
          "text": [
            "Train: Loss=0.1957 Batch_id=117 Accuracy=97.91: 100%|██████████| 118/118 [00:22<00:00,  5.34it/s]\n"
          ]
        },
        {
          "output_type": "stream",
          "name": "stdout",
          "text": [
            "Test set: Average loss: 0.0477, Accuracy: 9840/10000 (98.40%)\n",
            "\n",
            "Adjusting learning rate of group 0 to 1.0000e-02.\n",
            "Epoch 8\n"
          ]
        },
        {
          "output_type": "stream",
          "name": "stderr",
          "text": [
            "Train: Loss=0.1416 Batch_id=117 Accuracy=98.14: 100%|██████████| 118/118 [00:22<00:00,  5.32it/s]\n"
          ]
        },
        {
          "output_type": "stream",
          "name": "stdout",
          "text": [
            "Test set: Average loss: 0.0414, Accuracy: 9865/10000 (98.65%)\n",
            "\n",
            "Adjusting learning rate of group 0 to 1.0000e-02.\n",
            "Epoch 9\n"
          ]
        },
        {
          "output_type": "stream",
          "name": "stderr",
          "text": [
            "Train: Loss=0.1548 Batch_id=117 Accuracy=98.22: 100%|██████████| 118/118 [00:21<00:00,  5.41it/s]\n"
          ]
        },
        {
          "output_type": "stream",
          "name": "stdout",
          "text": [
            "Test set: Average loss: 0.0350, Accuracy: 9887/10000 (98.87%)\n",
            "\n",
            "Adjusting learning rate of group 0 to 1.0000e-02.\n",
            "Epoch 10\n"
          ]
        },
        {
          "output_type": "stream",
          "name": "stderr",
          "text": [
            "Train: Loss=0.1069 Batch_id=117 Accuracy=98.44: 100%|██████████| 118/118 [00:21<00:00,  5.49it/s]\n"
          ]
        },
        {
          "output_type": "stream",
          "name": "stdout",
          "text": [
            "Test set: Average loss: 0.0302, Accuracy: 9901/10000 (99.01%)\n",
            "\n",
            "Adjusting learning rate of group 0 to 1.0000e-02.\n",
            "Epoch 11\n"
          ]
        },
        {
          "output_type": "stream",
          "name": "stderr",
          "text": [
            "Train: Loss=0.0787 Batch_id=117 Accuracy=98.54: 100%|██████████| 118/118 [00:21<00:00,  5.61it/s]\n"
          ]
        },
        {
          "output_type": "stream",
          "name": "stdout",
          "text": [
            "Test set: Average loss: 0.0293, Accuracy: 9900/10000 (99.00%)\n",
            "\n",
            "Adjusting learning rate of group 0 to 1.0000e-02.\n",
            "Epoch 12\n"
          ]
        },
        {
          "output_type": "stream",
          "name": "stderr",
          "text": [
            "Train: Loss=0.1427 Batch_id=117 Accuracy=98.61: 100%|██████████| 118/118 [00:21<00:00,  5.58it/s]\n"
          ]
        },
        {
          "output_type": "stream",
          "name": "stdout",
          "text": [
            "Test set: Average loss: 0.0297, Accuracy: 9903/10000 (99.03%)\n",
            "\n",
            "Adjusting learning rate of group 0 to 1.0000e-02.\n",
            "Epoch 13\n"
          ]
        },
        {
          "output_type": "stream",
          "name": "stderr",
          "text": [
            "Train: Loss=0.1534 Batch_id=117 Accuracy=98.70: 100%|██████████| 118/118 [00:21<00:00,  5.41it/s]\n"
          ]
        },
        {
          "output_type": "stream",
          "name": "stdout",
          "text": [
            "Test set: Average loss: 0.0291, Accuracy: 9898/10000 (98.98%)\n",
            "\n",
            "Adjusting learning rate of group 0 to 1.0000e-02.\n",
            "Epoch 14\n"
          ]
        },
        {
          "output_type": "stream",
          "name": "stderr",
          "text": [
            "Train: Loss=0.1382 Batch_id=117 Accuracy=98.72: 100%|██████████| 118/118 [00:21<00:00,  5.44it/s]\n"
          ]
        },
        {
          "output_type": "stream",
          "name": "stdout",
          "text": [
            "Test set: Average loss: 0.0284, Accuracy: 9908/10000 (99.08%)\n",
            "\n",
            "Adjusting learning rate of group 0 to 1.0000e-02.\n",
            "Epoch 15\n"
          ]
        },
        {
          "output_type": "stream",
          "name": "stderr",
          "text": [
            "Train: Loss=0.1547 Batch_id=117 Accuracy=98.87: 100%|██████████| 118/118 [00:21<00:00,  5.43it/s]\n"
          ]
        },
        {
          "output_type": "stream",
          "name": "stdout",
          "text": [
            "Test set: Average loss: 0.0289, Accuracy: 9897/10000 (98.97%)\n",
            "\n",
            "Adjusting learning rate of group 0 to 1.0000e-03.\n",
            "Epoch 16\n"
          ]
        },
        {
          "output_type": "stream",
          "name": "stderr",
          "text": [
            "Train: Loss=0.0674 Batch_id=117 Accuracy=99.10: 100%|██████████| 118/118 [00:21<00:00,  5.51it/s]\n"
          ]
        },
        {
          "output_type": "stream",
          "name": "stdout",
          "text": [
            "Test set: Average loss: 0.0223, Accuracy: 9928/10000 (99.28%)\n",
            "\n",
            "Adjusting learning rate of group 0 to 1.0000e-03.\n",
            "Epoch 17\n"
          ]
        },
        {
          "output_type": "stream",
          "name": "stderr",
          "text": [
            "Train: Loss=0.1208 Batch_id=117 Accuracy=99.10: 100%|██████████| 118/118 [00:21<00:00,  5.59it/s]\n"
          ]
        },
        {
          "output_type": "stream",
          "name": "stdout",
          "text": [
            "Test set: Average loss: 0.0221, Accuracy: 9925/10000 (99.25%)\n",
            "\n",
            "Adjusting learning rate of group 0 to 1.0000e-03.\n",
            "Epoch 18\n"
          ]
        },
        {
          "output_type": "stream",
          "name": "stderr",
          "text": [
            "Train: Loss=0.1070 Batch_id=117 Accuracy=99.17: 100%|██████████| 118/118 [00:21<00:00,  5.54it/s]\n"
          ]
        },
        {
          "output_type": "stream",
          "name": "stdout",
          "text": [
            "Test set: Average loss: 0.0221, Accuracy: 9926/10000 (99.26%)\n",
            "\n",
            "Adjusting learning rate of group 0 to 1.0000e-03.\n",
            "Epoch 19\n"
          ]
        },
        {
          "output_type": "stream",
          "name": "stderr",
          "text": [
            "Train: Loss=0.1141 Batch_id=117 Accuracy=99.15: 100%|██████████| 118/118 [00:22<00:00,  5.31it/s]\n"
          ]
        },
        {
          "output_type": "stream",
          "name": "stdout",
          "text": [
            "Test set: Average loss: 0.0220, Accuracy: 9925/10000 (99.25%)\n",
            "\n",
            "Adjusting learning rate of group 0 to 1.0000e-03.\n",
            "Epoch 20\n"
          ]
        },
        {
          "output_type": "stream",
          "name": "stderr",
          "text": [
            "Train: Loss=0.0763 Batch_id=117 Accuracy=99.12: 100%|██████████| 118/118 [00:21<00:00,  5.40it/s]\n"
          ]
        },
        {
          "output_type": "stream",
          "name": "stdout",
          "text": [
            "Test set: Average loss: 0.0219, Accuracy: 9923/10000 (99.23%)\n",
            "\n",
            "Adjusting learning rate of group 0 to 1.0000e-03.\n"
          ]
        }
      ]
    },
    {
      "cell_type": "markdown",
      "source": [
        "CODE BLOCK: 11"
      ],
      "metadata": {
        "id": "B-LM-Z1k6FcF"
      }
    },
    {
      "cell_type": "markdown",
      "source": [
        "### Visualize how losses and accuracy are changing over epochs\n"
      ],
      "metadata": {
        "id": "y0DrqHnxLAuC"
      }
    },
    {
      "cell_type": "code",
      "source": [
        "fig, axs = plt.subplots(2,2,figsize=(15,10))\n",
        "axs[0, 0].plot(train_losses)\n",
        "axs[0, 0].set_title(\"Training Loss\")\n",
        "axs[1, 0].plot(train_acc)\n",
        "axs[1, 0].set_title(\"Training Accuracy\")\n",
        "axs[0, 1].plot(test_losses)\n",
        "axs[0, 1].set_title(\"Test Loss\")\n",
        "axs[1, 1].plot(test_acc)\n",
        "axs[1, 1].set_title(\"Test Accuracy\")"
      ],
      "metadata": {
        "colab": {
          "base_uri": "https://localhost:8080/",
          "height": 554
        },
        "id": "Wu0l7dli4eC9",
        "outputId": "5bca076e-712d-4e15-9263-e45f2cad45e0"
      },
      "execution_count": 12,
      "outputs": [
        {
          "output_type": "execute_result",
          "data": {
            "text/plain": [
              "Text(0.5, 1.0, 'Test Accuracy')"
            ]
          },
          "metadata": {},
          "execution_count": 12
        },
        {
          "output_type": "display_data",
          "data": {
            "text/plain": [
              "<Figure size 1500x1000 with 4 Axes>"
            ],
            "image/png": "[encoded data removed]"
          },
          "metadata": {}
        }
      ]
    }
  ]
}